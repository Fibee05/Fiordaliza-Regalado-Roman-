{
 "cells": [
  {
   "cell_type": "code",
   "execution_count": null,
   "id": "406097a5-5480-4b83-8bbb-2d8ad4f544b9",
   "metadata": {},
   "outputs": [],
   "source": [
    "\"\"\"\n",
    "Esta practica tiene como objetivo realizar diferentes transformaciones y manipulaciones de imagenes utilizando OpenCV.\n",
    "Se incluyen pasos como la creacion de una imagen en blanco, el dibujo de figuras geometricas, la adicion de texto, \n",
    "y tecnicas avanzadas como por ejemplo rotaciones, transformaciones de perspectiva y aplicacion de mascaras de transparencia.\n",
    "A continucion, la practica de la temporada II:\n",
    "\"\"\""
   ]
  },
  {
   "cell_type": "code",
   "execution_count": 1,
   "id": "26872467-1178-43b4-be71-69d7ef9519f2",
   "metadata": {},
   "outputs": [],
   "source": [
    "import cv2\n",
    "import numpy as np"
   ]
  },
  {
   "cell_type": "code",
   "execution_count": 2,
   "id": "d8aff817-676d-46b2-9757-5a0c06418a5e",
   "metadata": {},
   "outputs": [
    {
     "data": {
      "text/plain": [
       "True"
      ]
     },
     "execution_count": 2,
     "metadata": {},
     "output_type": "execute_result"
    }
   ],
   "source": [
    "# ---- Paso 1: Crear una imagen en blanco ----\n",
    "\n",
    "def create_blank_image(width, height, color=(255, 255, 255)):\n",
    " \"Crea una imagen en blanco con dimensiones especificadas y color de fondo.\"\n",
    " return np.full((height, width, 3), color, dtype=np.uint8)\n",
    "\n",
    "image = create_blank_image(500, 500)\n",
    "cv2.imwrite(\"ImagenEnBlanco.png\", image)"
   ]
  },
  {
   "cell_type": "code",
   "execution_count": 3,
   "id": "cc8602d3-a223-4bb5-a2db-1af51cf41005",
   "metadata": {},
   "outputs": [
    {
     "data": {
      "text/plain": [
       "True"
      ]
     },
     "execution_count": 3,
     "metadata": {},
     "output_type": "execute_result"
    }
   ],
   "source": [
    "# ---- Paso 2: Dibujar figuras geometricas ----\n",
    "\n",
    "image_figures = image.copy()\n",
    "cv2.line(image_figures, (0, 0), (499, 499), (255, 0, 0), 3)  # Linea azul\n",
    "cv2.rectangle(image_figures, (150, 150), (350, 350), (0, 255, 0), -1)  # Rectangulo verde\n",
    "cv2.circle(image_figures, (250, 250), 50, (0, 0, 255), -1)  # Circulo rojo\n",
    "cv2.imwrite(\"FigurasGeometricas.png\", image_figures)"
   ]
  },
  {
   "cell_type": "code",
   "execution_count": 4,
   "id": "b75f419b-b125-48ad-a220-50ae8eb78aed",
   "metadata": {},
   "outputs": [
    {
     "data": {
      "text/plain": [
       "True"
      ]
     },
     "execution_count": 4,
     "metadata": {},
     "output_type": "execute_result"
    }
   ],
   "source": [
    "# ---- Paso 3: Agregar texto, especificamente mi nombre ----\n",
    "\n",
    "image_text = image_figures.copy()\n",
    "cv2.putText(image_text, 'Fiordaliza', (180, 480), cv2.FONT_HERSHEY_COMPLEX, 1, (0, 255, 255), 2)\n",
    "cv2.imwrite(\"ImagenConTexto.png\", image_text)"
   ]
  },
  {
   "cell_type": "code",
   "execution_count": 5,
   "id": "59634979-9f01-42bd-9bfa-bc9188412e6c",
   "metadata": {},
   "outputs": [
    {
     "data": {
      "text/plain": [
       "True"
      ]
     },
     "execution_count": 5,
     "metadata": {},
     "output_type": "execute_result"
    }
   ],
   "source": [
    "# ---- Paso 4: Manipulacion de imagenes ----\n",
    "\n",
    "# Convertir a escala de grises\n",
    "grayscale_image = cv2.cvtColor(image_text, cv2.COLOR_BGR2GRAY)\n",
    "cv2.imwrite(\"ImagenEnGrises.png\", grayscale_image)\n",
    "\n",
    "# Redimensionar la imagen al doble de su tamaño\n",
    "resized_image = cv2.resize(image_text, (1000, 1000))\n",
    "cv2.imwrite(\"ImagenRedimensionada.png\", resized_image)\n",
    "\n",
    "# Rotar la imagen 45 grados\n",
    "(h, w) = image_text.shape[:2]\n",
    "center = (w // 2, h // 2)\n",
    "rotation_matrix = cv2.getRotationMatrix2D(center, 45, 1.0)\n",
    "rotated_image = cv2.warpAffine(image_text, rotation_matrix, (w, h))\n",
    "cv2.imwrite(\"ManipulacionImag.png\", rotated_image)"
   ]
  },
  {
   "cell_type": "code",
   "execution_count": 6,
   "id": "f0aa0aba-eb80-436e-a0e8-37171454fdaf",
   "metadata": {},
   "outputs": [
    {
     "data": {
      "text/plain": [
       "True"
      ]
     },
     "execution_count": 6,
     "metadata": {},
     "output_type": "execute_result"
    }
   ],
   "source": [
    "# ---- Paso 5: Transformaciones avanzadas ----\n",
    "\n",
    "# Rotar la imagen 30 grados\n",
    "rotation_matrix_30 = cv2.getRotationMatrix2D(center, 30, 1.0)\n",
    "rotated_image_30 = cv2.warpAffine(image_text, rotation_matrix_30, (w, h))\n",
    "cv2.imwrite(\"ImagenRotada30.png\", rotated_image_30)\n",
    "\n",
    "# Transformacion de perspectiva\n",
    "pts1 = np.float32([[50, 50], [450, 50], [50, 450], [450, 450]])\n",
    "pts2 = np.float32([[10, 100], [400, 50], [100, 400], [450, 450]])\n",
    "M = cv2.getPerspectiveTransform(pts1, pts2)\n",
    "perspective_image = cv2.warpPerspective(image_text, M, (500, 500))\n",
    "cv2.imwrite(\"ImagenPerspectiva.png\", perspective_image)\n",
    "\n",
    "# Aplicacion de mascara de transparencia\n",
    "mask = np.zeros((500, 500), dtype=np.uint8)\n",
    "cv2.circle(mask, (250, 250), 100, 255, -1)  # Mascara circular\n",
    "masked_image = cv2.bitwise_and(image_text, image_text, mask=mask)\n",
    "cv2.imwrite(\"ImagenMascara.png\", masked_image)"
   ]
  },
  {
   "cell_type": "code",
   "execution_count": null,
   "id": "7fc48cc2-cc73-4c64-8a98-6c9d41d146a1",
   "metadata": {},
   "outputs": [],
   "source": [
    "# ---- Paso 6: Mostrar nuestras imagenes generadas ----\n",
    "images = [\n",
    "    (\"ImagenEnBlanco.png\", \"Imagen en Blanco\"),\n",
    "    (\"FigurasGeometricas.png\", \"Figuras Geometricas\"),\n",
    "    (\"ImagenConTexto.png\", \"Imagen con Texto\"),\n",
    "    (\"ImagenEnGrises.png\", \"Imagen en Escala de Grises\"),\n",
    "    (\"ImagenRedimensionada.png\", \"Imagen Redimensionada\"),\n",
    "    (\"ManipulacionImag.png\", \"Imagen Rotada 45°\"),\n",
    "    (\"ImagenRotada30.png\", \"Imagen Rotada 30°\"),\n",
    "    (\"ImagenPerspectiva.png\", \"Transformacion de Perspectiva\"),\n",
    "    (\"ImagenMascara.png\", \"Mascara de Transparencia\"),\n",
    "]\n",
    "\n",
    "for file_name, window_name in images:\n",
    "    img = cv2.imread(file_name)\n",
    "    if img is None:\n",
    "        continue\n",
    "    cv2.imshow(window_name, img)\n",
    "\n",
    "cv2.waitKey(0)\n",
    "cv2.destroyAllWindows()"
   ]
  },
  {
   "cell_type": "code",
   "execution_count": null,
   "id": "72e9459b-8a3d-45ed-9fec-0a3fe4f4241b",
   "metadata": {},
   "outputs": [],
   "source": [
    "# Hecho por: Fiordaliza Regalado Roman :) "
   ]
  }
 ],
 "metadata": {
  "kernelspec": {
   "display_name": "Python 3 (ipykernel)",
   "language": "python",
   "name": "python3"
  },
  "language_info": {
   "codemirror_mode": {
    "name": "ipython",
    "version": 3
   },
   "file_extension": ".py",
   "mimetype": "text/x-python",
   "name": "python",
   "nbconvert_exporter": "python",
   "pygments_lexer": "ipython3",
   "version": "3.13.2"
  }
 },
 "nbformat": 4,
 "nbformat_minor": 5
}
